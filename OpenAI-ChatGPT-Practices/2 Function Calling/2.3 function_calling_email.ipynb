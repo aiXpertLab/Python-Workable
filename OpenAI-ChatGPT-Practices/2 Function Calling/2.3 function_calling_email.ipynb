{
 "cells": [
  {
   "cell_type": "markdown",
   "metadata": {},
   "source": [
    "**可识别且格式化输出** \n",
    "- 用户prompt\n",
    "- AI收到promt，充当语义分析的角色\n",
    "- 返回结构化的数据（收件人是谁，内容是啥）\n",
    "- 开发者拿到数据执行操作\n",
    "\n",
    "用户的输入是未知的，AI该怎么识别到用户此时是发邮件而不是做别的操作呢？如何更可靠地从模型中获取结构化数据？Function Calling就可以。\n",
    "\n",
    "因为这两个模型微调了之后，可以检测何时应该调用函数（取决于输入）并使用符合函数签名的 JSON 进行响应。\n",
    "- 模型层面，识别出何时需要调用函数来对输出格式化\n",
    "- 函数方面，设定具体的格式化逻辑来让我们更好使用\n",
    "\n",
    "回到发邮件的例子，现在可以看下，如果是用Function Calling，第一步的流程，还是先创建一个正常的conversation："
   ]
  },
  {
   "cell_type": "code",
   "execution_count": 11,
   "metadata": {},
   "outputs": [],
   "source": [
    "import json\n",
    "from EmailSkill import send_email, send_email_action\n",
    "from enum import Enum\n",
    "from openai import OpenAI\n",
    "client=OpenAI()\n",
    "\n",
    "class SkillFunctions(Enum):\n",
    "  SendEmail = 'send_email'\n",
    "\n",
    "def chat_completions():\n",
    "    response = client.chat.completions.create(\n",
    "      model=\"gpt-3.5-turbo-0125\",\n",
    "      messages=[{\"role\": \"user\", \"content\": \"send an email to my wife, telling her I'm not going to have dinner today.\"},],\n",
    "      functions=[\n",
    "        {\n",
    "          \"name\": SkillFunctions.SendEmail.value,\n",
    "          \"description\": \"send email assistant\",\n",
    "          \"parameters\": {\n",
    "            \"type\": \"object\",\n",
    "            \"properties\": {\n",
    "              \"receiver\": {\n",
    "                \"type\": \"string\",\n",
    "                \"description\": \"收件人名字即可\",\n",
    "              },\n",
    "              \"content\": {\"type\": \"string\", \"description\": \"邮件的内容\"},\n",
    "            },\n",
    "            \"required\": [\"receiver\", \"content\"],\n",
    "          },\n",
    "        }\n",
    "      ],\n",
    "      function_call=\"auto\",\n",
    "    )\n",
    "    message = response[\"choices\"][0].message\n",
    "    print(message)    "
   ]
  },
  {
   "cell_type": "code",
   "execution_count": 12,
   "metadata": {},
   "outputs": [
    {
     "ename": "TypeError",
     "evalue": "'ChatCompletion' object is not subscriptable",
     "output_type": "error",
     "traceback": [
      "\u001b[1;31m---------------------------------------------------------------------------\u001b[0m",
      "\u001b[1;31mTypeError\u001b[0m                                 Traceback (most recent call last)",
      "Cell \u001b[1;32mIn[12], line 1\u001b[0m\n\u001b[1;32m----> 1\u001b[0m \u001b[43mchat_completions\u001b[49m\u001b[43m(\u001b[49m\u001b[43m)\u001b[49m\n",
      "Cell \u001b[1;32mIn[11], line 33\u001b[0m, in \u001b[0;36mchat_completions\u001b[1;34m()\u001b[0m\n\u001b[0;32m     10\u001b[0m \u001b[38;5;28;01mdef\u001b[39;00m \u001b[38;5;21mchat_completions\u001b[39m():\n\u001b[0;32m     11\u001b[0m     response \u001b[38;5;241m=\u001b[39m client\u001b[38;5;241m.\u001b[39mchat\u001b[38;5;241m.\u001b[39mcompletions\u001b[38;5;241m.\u001b[39mcreate(\n\u001b[0;32m     12\u001b[0m       model\u001b[38;5;241m=\u001b[39m\u001b[38;5;124m\"\u001b[39m\u001b[38;5;124mgpt-3.5-turbo-0125\u001b[39m\u001b[38;5;124m\"\u001b[39m,\n\u001b[0;32m     13\u001b[0m       messages\u001b[38;5;241m=\u001b[39m[{\u001b[38;5;124m\"\u001b[39m\u001b[38;5;124mrole\u001b[39m\u001b[38;5;124m\"\u001b[39m: \u001b[38;5;124m\"\u001b[39m\u001b[38;5;124muser\u001b[39m\u001b[38;5;124m\"\u001b[39m, \u001b[38;5;124m\"\u001b[39m\u001b[38;5;124mcontent\u001b[39m\u001b[38;5;124m\"\u001b[39m: \u001b[38;5;124m\"\u001b[39m\u001b[38;5;124msend an email to my wife, telling her I\u001b[39m\u001b[38;5;124m'\u001b[39m\u001b[38;5;124mm not going to have dinner today.\u001b[39m\u001b[38;5;124m\"\u001b[39m},],\n\u001b[1;32m   (...)\u001b[0m\n\u001b[0;32m     31\u001b[0m       function_call\u001b[38;5;241m=\u001b[39m\u001b[38;5;124m\"\u001b[39m\u001b[38;5;124mauto\u001b[39m\u001b[38;5;124m\"\u001b[39m,\n\u001b[0;32m     32\u001b[0m     )\n\u001b[1;32m---> 33\u001b[0m     message \u001b[38;5;241m=\u001b[39m \u001b[43mresponse\u001b[49m\u001b[43m[\u001b[49m\u001b[38;5;124;43m\"\u001b[39;49m\u001b[38;5;124;43mchoices\u001b[39;49m\u001b[38;5;124;43m\"\u001b[39;49m\u001b[43m]\u001b[49m[\u001b[38;5;241m0\u001b[39m]\u001b[38;5;241m.\u001b[39mmessage\n\u001b[0;32m     34\u001b[0m     \u001b[38;5;28mprint\u001b[39m(message)\n",
      "\u001b[1;31mTypeError\u001b[0m: 'ChatCompletion' object is not subscriptable"
     ]
    }
   ],
   "source": [
    "chat_completions()"
   ]
  }
 ],
 "metadata": {
  "kernelspec": {
   "display_name": "Python 3",
   "language": "python",
   "name": "python3"
  },
  "language_info": {
   "codemirror_mode": {
    "name": "ipython",
    "version": 3
   },
   "file_extension": ".py",
   "mimetype": "text/x-python",
   "name": "python",
   "nbconvert_exporter": "python",
   "pygments_lexer": "ipython3",
   "version": "3.12.2"
  }
 },
 "nbformat": 4,
 "nbformat_minor": 2
}
