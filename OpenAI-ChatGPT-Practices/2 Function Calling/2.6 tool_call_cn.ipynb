{
 "cells": [
  {
   "cell_type": "code",
   "execution_count": 21,
   "metadata": {},
   "outputs": [
    {
     "data": {
      "text/plain": [
       "'{\"columns\":[\"Name\",\"Age\",\"Salary\",\"IsMarried\"],\"index\":[0,1,2],\"data\":[[\"Alice\",25,50000.0,true],[\"Bob\",30,100000.5,false],[\"Charlie\",35,150000.75,true]]}'"
      ]
     },
     "execution_count": 21,
     "metadata": {},
     "output_type": "execute_result"
    }
   ],
   "source": [
    "#Step 1：准备数据\n",
    "import pandas as pd, json\n",
    "df_complex = pd.DataFrame({\n",
    "    'Name': ['Alice', 'Bob', 'Charlie'],\n",
    "    'Age': [25, 30, 35],\n",
    "    'Salary': [50000.0, 100000.5, 150000.75],\n",
    "    'IsMarried': [True, False, True]\n",
    "})\n",
    "\n",
    "df_complex_json = df_complex.to_json(orient='split')\n",
    "df_complex_json"
   ]
  },
  {
   "cell_type": "code",
   "execution_count": 25,
   "metadata": {},
   "outputs": [],
   "source": [
    "#Step 2：设定需求: 让大模型计算这个数据集中所有人的年龄总和。\n",
    "# Step 3：编写计算年龄总和的函数\n",
    "from io import StringIO\n",
    "def calculate_total_age_from_split_json(input_json):\n",
    "    \"\"\"\n",
    "    从给定的JSON格式字符串（按'split'方向排列）中解析出DataFrame，计算所有人的年龄总和，并以JSON格式返回结果。\n",
    "\n",
    "    参数:\n",
    "    input_json (str): 包含个体数据的JSON格式字符串。\n",
    "\n",
    "    返回:\n",
    "    str: 所有人的年龄总和，以JSON格式返回。\n",
    "    \"\"\"\n",
    "\n",
    "    # 将JSON字符串转换为DataFrame\n",
    "    df = pd.read_json(StringIO(input_json), orient='split')\n",
    "\n",
    "    # 计算所有人的年龄总和\n",
    "    total_age = df['Age'].sum()\n",
    "\n",
    "    # 将结果转换为字符串形式，然后使用json.dumps()转换为JSON格式\n",
    "    return json.dumps({\"total_age\": str(total_age)})\n"
   ]
  },
  {
   "cell_type": "code",
   "execution_count": 26,
   "metadata": {},
   "outputs": [
    {
     "name": "stdout",
     "output_type": "stream",
     "text": [
      "The JSON output is: {\"total_age\": \"90\"}\n"
     ]
    }
   ],
   "source": [
    "#step4: 功能测试： 使用函数计算年龄总和，并以JSON格式输出\n",
    "result = calculate_total_age_from_split_json(df_complex_json)\n",
    "print(\"The JSON output is:\", result)\n"
   ]
  },
  {
   "cell_type": "code",
   "execution_count": 27,
   "metadata": {},
   "outputs": [],
   "source": [
    "# Step 5：定义函数库\n",
    "# 在Chat模型实际执行Function calling功能时，是从一个函数库中筛选合适的函数进行调用，因此需要准备一个函数库。最简单的情况下，函数库可以只包含一个函数，如下：\n",
    "# 函数库对象必须是一个字典，一个键值对代表一个函数，其中Key是代表函数名称的字符串，而value表示对应的函数。所以上述过程可以简单的理解为：所谓的外部函数库，就是用一个大的字典来存储某应用场景中的所需要的所有函数定义\n",
    "function_repository = {\n",
    "            \"calculate_total_age_from_split_json\": calculate_total_age_from_split_json,}\n"
   ]
  },
  {
   "cell_type": "code",
   "execution_count": 28,
   "metadata": {},
   "outputs": [],
   "source": [
    "# step 6: 将外部函数传递给大模型的第一步，就是要对每一个编写好的功能函数定义其对应的JSON Schema描述。\n",
    "# **针对刚才定义计算年龄总和的函数calculate_total_age_from_split_json，编写其JSON Schema描述，如下：\n",
    "calculate_total_age_from_split_json = {\"name\": \"calculate_total_age_from_split_json\",\n",
    "                                       \"description\": \"计算年龄总和的函数，从给定的JSON格式字符串（按'split'方向排列）中解析出DataFrame，计算所有人的年龄总和，并以JSON格式返回结果。\",\n",
    "                                       \"parameters\": {\"type\": \"object\",\n",
    "                                       \"properties\": {\"input_json\": {\"type\": \"string\",\n",
    "                                                                     \"description\": \"执行计算年龄总和的数据集\"},},\n",
    "                                        \"required\": [\"input_json\"],\n",
    "                                    },\n",
    "                     }\n",
    "# 必须编写calculate_total_age_from_split_json[“parameters”]的原因，是因为在Chat模型在进行对话时，传入和传出数据信息都是以类似JSON数据格式进行传输的"
   ]
  },
  {
   "cell_type": "code",
   "execution_count": 29,
   "metadata": {},
   "outputs": [],
   "source": [
    "# step 7: 当定义了外部函数仓库、功能函数及功能函数对应的JSON Schema对象描述后，准备工作基本就做完了。接下来就可以进行与大模型的数据交互，具体来说就是在对话参数的基础上补充两个额外参数：\n",
    "from openai import OpenAI\n",
    "client = OpenAI()\n",
    "\n",
    "functions = [calculate_total_age_from_split_json]\n",
    "def chat_completions(parameter_message):\n",
    "    response = client.chat.completions.create(model=\"gpt-3.5-turbo-0125\",\n",
    "        messages = parameter_message,\n",
    "        functions=functions,# 增加这两行\n",
    "        function_call=\"auto\",  )\n",
    "    return response.choices[0].message"
   ]
  },
  {
   "cell_type": "code",
   "execution_count": 30,
   "metadata": {},
   "outputs": [
    {
     "data": {
      "text/plain": [
       "ChatCompletionMessage(content=None, role='assistant', function_call=FunctionCall(arguments='{\"input_json\":\"{\\\\\"columns\\\\\":[\\\\\"Name\\\\\",\\\\\"Age\\\\\",\\\\\"Salary\\\\\",\\\\\"IsMarried\\\\\"],\\\\\"index\\\\\":[0,1,2],\\\\\"data\\\\\":[[\\\\\"Alice\\\\\",25,50000.0,true],[\\\\\"Bob\\\\\",30,100000.5,false],[\\\\\"Charlie\\\\\",35,150000.75,true]]}\"}', name='calculate_total_age_from_split_json'), tool_calls=None)"
      ]
     },
     "execution_count": 30,
     "metadata": {},
     "output_type": "execute_result"
    }
   ],
   "source": [
    "# Step 8：构建messages\n",
    "messages=[\n",
    "    {\"role\": \"system\", \"content\": \"你是一位优秀的数据分析师, 现在有这样一个数据集input_json：%s，数据集以JSON形式呈现\" % df_complex_json},\n",
    "    {\"role\": \"user\", \"content\": \"请在数据集input_json上执行计算所有人年龄总和函数\"}\n",
    "]\n",
    "\n",
    "#Step 9：传入模型，让其自动选择函数并完成计算\n",
    "response = chat_completions(messages)\n",
    "response"
   ]
  },
  {
   "cell_type": "code",
   "execution_count": 36,
   "metadata": {},
   "outputs": [
    {
     "name": "stdout",
     "output_type": "stream",
     "text": [
      "calculate_total_age_from_split_json\n"
     ]
    },
    {
     "data": {
      "text/plain": [
       "{'input_json': '{\"columns\":[\"Name\",\"Age\",\"Salary\",\"IsMarried\"],\"index\":[0,1,2],\"data\":[[\"Alice\",25,50000.0,true],[\"Bob\",30,100000.5,false],[\"Charlie\",35,150000.75,true]]}'}"
      ]
     },
     "execution_count": 36,
     "metadata": {},
     "output_type": "execute_result"
    }
   ],
   "source": [
    "# Step 10：保存交互过程中的关键信息\n",
    "# 保存交互过程中的函数名称\n",
    "function_name = response.function_call.name\n",
    "print(function_name)\n",
    "# 加载交互过程中的参数\n",
    "function_args = json.loads(response.function_call.arguments)\n",
    "function_args"
   ]
  },
  {
   "cell_type": "code",
   "execution_count": 38,
   "metadata": {},
   "outputs": [
    {
     "data": {
      "text/plain": [
       "<function __main__.calculate_total_age_from_split_json(input_json)>"
      ]
     },
     "execution_count": 38,
     "metadata": {},
     "output_type": "execute_result"
    }
   ],
   "source": [
    "# Step 11：保存函数对象\n",
    "# 保存具体的函数对象\n",
    "local_fuction_call = function_repository[function_name]\n",
    "local_fuction_call"
   ]
  },
  {
   "cell_type": "code",
   "execution_count": 39,
   "metadata": {},
   "outputs": [
    {
     "data": {
      "text/plain": [
       "'{\"total_age\": \"90\"}'"
      ]
     },
     "execution_count": 39,
     "metadata": {},
     "output_type": "execute_result"
    }
   ],
   "source": [
    "# Step 12：完成模型计算\n",
    "final_response = local_fuction_call(**function_args)\n",
    "final_response"
   ]
  },
  {
   "cell_type": "code",
   "execution_count": 40,
   "metadata": {},
   "outputs": [
    {
     "name": "stdout",
     "output_type": "stream",
     "text": [
      "[{'role': 'system', 'content': '你是一位优秀的数据分析师, 现在有这样一个数据集input_json：{\"columns\":[\"Name\",\"Age\",\"Salary\",\"IsMarried\"],\"index\":[0,1,2],\"data\":[[\"Alice\",25,50000.0,true],[\"Bob\",30,100000.5,false],[\"Charlie\",35,150000.75,true]]}，数据集以JSON形式呈现'}, {'role': 'user', 'content': '请在数据集input_json上执行计算所有人年龄总和函数'}, ChatCompletionMessage(content=None, role='assistant', function_call=FunctionCall(arguments='{\"input_json\":\"{\\\\\"columns\\\\\":[\\\\\"Name\\\\\",\\\\\"Age\\\\\",\\\\\"Salary\\\\\",\\\\\"IsMarried\\\\\"],\\\\\"index\\\\\":[0,1,2],\\\\\"data\\\\\":[[\\\\\"Alice\\\\\",25,50000.0,true],[\\\\\"Bob\\\\\",30,100000.5,false],[\\\\\"Charlie\\\\\",35,150000.75,true]]}\"}', name='calculate_total_age_from_split_json'), tool_calls=None), {'role': 'function', 'name': 'calculate_total_age_from_split_json', 'content': '{\"total_age\": \"90\"}'}]\n"
     ]
    }
   ],
   "source": [
    "# Step 13：追加messages构建流程\n",
    "# 追加第一次模型返回结果消息\n",
    "messages.append(response)\n",
    "# 追加function计算结果，注意：function message必须要输入关键词name\n",
    "messages.append({\"role\": \"function\", \"name\": function_name, \"content\": final_response,})\n",
    "print(messages)\n",
    "\n"
   ]
  },
  {
   "cell_type": "code",
   "execution_count": 41,
   "metadata": {},
   "outputs": [
    {
     "data": {
      "text/plain": [
       "ChatCompletion(id='chatcmpl-95Jpbhbv7BYPQIinG0gfC1pNdIern', choices=[Choice(finish_reason='stop', index=0, logprobs=None, message=ChatCompletionMessage(content='数据集input_json中所有人的年龄总和为90岁。', role='assistant', function_call=None, tool_calls=None))], created=1711054899, model='gpt-3.5-turbo-0125', object='chat.completion', system_fingerprint='fp_fa89f7a861', usage=CompletionUsage(completion_tokens=17, prompt_tokens=225, total_tokens=242))"
      ]
     },
     "execution_count": 41,
     "metadata": {},
     "output_type": "execute_result"
    }
   ],
   "source": [
    "# Step 14: 再次向Chat Completion 模型提问\n",
    "last_response = client.chat.completions.create(model=\"gpt-3.5-turbo-0125\",\n",
    "        messages = messages)\n",
    "last_response"
   ]
  },
  {
   "cell_type": "code",
   "execution_count": 44,
   "metadata": {},
   "outputs": [
    {
     "data": {
      "text/plain": [
       "'数据集input_json中所有人的年龄总和为90岁。'"
      ]
     },
     "execution_count": 44,
     "metadata": {},
     "output_type": "execute_result"
    }
   ],
   "source": [
    "last_response.choices[0].message.content"
   ]
  }
 ],
 "metadata": {
  "kernelspec": {
   "display_name": "Python 3",
   "language": "python",
   "name": "python3"
  },
  "language_info": {
   "codemirror_mode": {
    "name": "ipython",
    "version": 3
   },
   "file_extension": ".py",
   "mimetype": "text/x-python",
   "name": "python",
   "nbconvert_exporter": "python",
   "pygments_lexer": "ipython3",
   "version": "3.12.2"
  }
 },
 "nbformat": 4,
 "nbformat_minor": 2
}
