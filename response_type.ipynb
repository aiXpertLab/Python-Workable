{
 "cells": [
  {
   "cell_type": "code",
   "execution_count": 2,
   "metadata": {},
   "outputs": [
    {
     "name": "stdout",
     "output_type": "stream",
     "text": [
      "ChatCompletion(id='chatcmpl-9GGX7R2reRcFqh57uVjZeDEjKuolI', choices=[Choice(finish_reason='stop', index=0, logprobs=None, message=ChatCompletionMessage(content='The World Series in 2020 was played at Globe Life Field in Arlington, Texas.', role='assistant', function_call=None, tool_calls=None))], created=1713663829, model='gpt-3.5-turbo-0125', object='chat.completion', system_fingerprint='fp_c2295e73ad', usage=CompletionUsage(completion_tokens=18, prompt_tokens=53, total_tokens=71))\n"
     ]
    }
   ],
   "source": [
    "import openai, os\n",
    "client = openai.OpenAI()\n",
    "model=\"gpt-3.5-turbo-0125\"\n",
    "response = client.chat.completions.create(\n",
    "    model = model,\n",
    "    messages=[\n",
    "        {\"role\": \"system\", \"content\": \"You are a helpful assistant.\"},\n",
    "        {\"role\": \"user\", \"content\": \"Who won the world series in 2020?\"},\n",
    "        {\"role\": \"assistant\", \"content\": \"The Los Angeles Dodgers won the World Series in 2020.\"},\n",
    "        {\"role\": \"user\", \"content\": \"Where was it played?\"}\n",
    "    ]\n",
    ")\n",
    "print(response)\n"
   ]
  },
  {
   "cell_type": "code",
   "execution_count": 5,
   "metadata": {},
   "outputs": [
    {
     "name": "stdout",
     "output_type": "stream",
     "text": [
      "Choice(finish_reason='stop', index=0, logprobs=None, message=ChatCompletionMessage(content='The World Series in 2020 was played at Globe Life Field in Arlington, Texas.', role='assistant', function_call=None, tool_calls=None))\n",
      "ChatCompletionMessage(content='The World Series in 2020 was played at Globe Life Field in Arlington, Texas.', role='assistant', function_call=None, tool_calls=None)\n",
      "The World Series in 2020 was played at Globe Life Field in Arlington, Texas.\n"
     ]
    }
   ],
   "source": [
    "print(response.choices[0])\n",
    "print(response.choices[0].message)\n",
    "print(response.choices[0].message.content)\n"
   ]
  },
  {
   "cell_type": "code",
   "execution_count": 7,
   "metadata": {},
   "outputs": [
    {
     "name": "stdout",
     "output_type": "stream",
     "text": [
      "{'receipt_headers': {'store_name': \"Trader Joe's\", 'slogan': '', 'address': '100 Front Street Santa Cruz, CA 95060', 'store_manager': '', 'phone_number': '831-425-0140', 'transaction_id': '****6000', 'date': '', 'time': '', 'cashier': '', 'subtotal': 9.98, 'sales_tax': 0, 'total': 9.98, 'gift_card': 0, 'charged_amount': 9.98, 'card_type': 'MasterCard', 'auth_code': 'N64K4H', 'chip_read': '', 'aid': '', 'issuer': '', 'policy_id': '', 'expiration_date': '', 'survey_message': '', 'survey_website': '', 'user_id': '', 'password': '', 'eligibility_note': ''}, 'line_items': [{'sku': '', 'description': 'WRAP ORG SOUTHWEST CHICK', 'details': '', 'price': 5.39}, {'sku': '', 'description': 'CUT FRUITFUL MEDLEY 16 O', 'details': '', 'price': 3.99}]}\n",
      "<class 'dict'>\n"
     ]
    }
   ],
   "source": [
    "import json\n",
    "\n",
    "# JSON string\n",
    "json_str = '''\n",
    "{\n",
    "  \"receipt_headers\": {\n",
    "    \"store_name\": \"Trader Joe's\",\n",
    "    \"slogan\": \"\",\n",
    "    \"address\": \"100 Front Street Santa Cruz, CA 95060\",\n",
    "    \"store_manager\": \"\",\n",
    "    \"phone_number\": \"831-425-0140\",\n",
    "    \"transaction_id\": \"****6000\",\n",
    "    \"date\": \"\",\n",
    "    \"time\": \"\",\n",
    "    \"cashier\": \"\",\n",
    "    \"subtotal\": 9.98,\n",
    "    \"sales_tax\": 0,\n",
    "    \"total\": 9.98,\n",
    "    \"gift_card\": 0,\n",
    "    \"charged_amount\": 9.98,\n",
    "    \"card_type\": \"MasterCard\",\n",
    "    \"auth_code\": \"N64K4H\",\n",
    "    \"chip_read\": \"\",\n",
    "    \"aid\": \"\",\n",
    "    \"issuer\": \"\",\n",
    "    \"policy_id\": \"\",\n",
    "    \"expiration_date\": \"\",\n",
    "    \"survey_message\": \"\",\n",
    "    \"survey_website\": \"\",\n",
    "    \"user_id\": \"\",\n",
    "    \"password\": \"\",\n",
    "    \"eligibility_note\": \"\"\n",
    "  },\n",
    "  \"line_items\": [\n",
    "    {\n",
    "      \"sku\": \"\",\n",
    "      \"description\": \"WRAP ORG SOUTHWEST CHICK\",\n",
    "      \"details\": \"\",\n",
    "      \"price\": 5.39\n",
    "    },\n",
    "    {\n",
    "      \"sku\": \"\",\n",
    "      \"description\": \"CUT FRUITFUL MEDLEY 16 O\",\n",
    "      \"details\": \"\",\n",
    "      \"price\": 3.99\n",
    "    }\n",
    "  ]\n",
    "}\n",
    "'''\n",
    "\n",
    "# Convert JSON string to dictionary\n",
    "data = json.loads(json_str)\n",
    "\n",
    "# Print the resulting dictionary\n",
    "print(data)\n",
    "print(type(data))\n"
   ]
  }
 ],
 "metadata": {
  "kernelspec": {
   "display_name": "Python 3",
   "language": "python",
   "name": "python3"
  },
  "language_info": {
   "codemirror_mode": {
    "name": "ipython",
    "version": 3
   },
   "file_extension": ".py",
   "mimetype": "text/x-python",
   "name": "python",
   "nbconvert_exporter": "python",
   "pygments_lexer": "ipython3",
   "version": "3.11.9"
  }
 },
 "nbformat": 4,
 "nbformat_minor": 2
}
